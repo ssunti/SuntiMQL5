{
 "cells": [
  {
   "cell_type": "code",
   "execution_count": 1,
   "metadata": {},
   "outputs": [
    {
     "name": "stdout",
     "output_type": "stream",
     "text": [
      "MetaTrader5 package author:  MetaQuotes Software Corp.\n",
      "MetaTrader5 package version:  5.0.33\n",
      "(500, 2560, '24 Jul 2020')\n",
      "connected to account #64012016\n",
      "AccountInfo(login=64012016, trade_mode=0, leverage=500, limit_orders=200, margin_so_mode=0, trade_allowed=True, trade_expert=True, margin_mode=2, currency_digits=2, fifo_close=False, balance=84458.67, credit=0.0, profit=2521.71, equity=86980.38, margin=569.57, margin_free=86410.81, margin_level=15271.2361957266, margin_so_call=50.0, margin_so_so=20.0, margin_initial=0.0, margin_maintenance=0.0, assets=0.0, liabilities=0.0, commission_blocked=0.0, name='Sunti Sillapachai', server='XMGlobal-MT5 2', currency='USD', company='XM Global Limited')\n",
      "Show account_info()._asdict():\n",
      "  login=64012016\n",
      "  trade_mode=0\n",
      "  leverage=500\n",
      "  limit_orders=200\n",
      "  margin_so_mode=0\n",
      "  trade_allowed=True\n",
      "  trade_expert=True\n",
      "  margin_mode=2\n",
      "  currency_digits=2\n",
      "  fifo_close=False\n",
      "  balance=84458.67\n",
      "  credit=0.0\n",
      "  profit=2521.71\n",
      "  equity=86980.38\n",
      "  margin=569.57\n",
      "  margin_free=86410.81\n",
      "  margin_level=15271.2361957266\n",
      "  margin_so_call=50.0\n",
      "  margin_so_so=20.0\n",
      "  margin_initial=0.0\n",
      "  margin_maintenance=0.0\n",
      "  assets=0.0\n",
      "  liabilities=0.0\n",
      "  commission_blocked=0.0\n",
      "  name=Sunti Sillapachai\n",
      "  server=XMGlobal-MT5 2\n",
      "  currency=USD\n",
      "  company=XM Global Limited\n"
     ]
    },
    {
     "data": {
      "text/plain": [
       "True"
      ]
     },
     "execution_count": 1,
     "metadata": {},
     "output_type": "execute_result"
    }
   ],
   "source": [
    "import MetaTrader5 as mt5 \n",
    "# display data on the MetaTrader 5 package \n",
    "print(\"MetaTrader5 package author: \",mt5.__author__) \n",
    "print(\"MetaTrader5 package version: \",mt5.__version__) \n",
    "  \n",
    "# establish connection to the MetaTrader 5 terminal \n",
    "if not mt5.initialize(login=64012016, server=\"XMGlobal-MT5 2\",password=\"23Vityut@\"): \n",
    "    print(\"initialize() failed, error code =\",mt5.last_error()) \n",
    "    quit() \n",
    "  \n",
    "# display data on MetaTrader 5 version \n",
    "print(mt5.version()) \n",
    "# connect to the trade account without specifying a password and a server \n",
    "account=64012016 \n",
    "authorized=mt5.login(account)  # the terminal database password is applied if connection data is set to be remembered \n",
    "if authorized: \n",
    "    print(\"connected to account #{}\".format(account)) \n",
    "else: \n",
    "    print(\"failed to connect at account #{}, error code: {}\".format(account, mt5.last_error())) \n",
    "  \n",
    "# now connect to another trading account specifying the password \n",
    "account=64012016 \n",
    "authorized=mt5.login(account,  server=\"XMGlobal-MT5 2\",password=\"23Vityut@\") \n",
    "if authorized: \n",
    "    # display trading account data 'as is' \n",
    "    print(mt5.account_info()) \n",
    "    # display trading account data in the form of a list \n",
    "    print(\"Show account_info()._asdict():\") \n",
    "    account_info_dict = mt5.account_info()._asdict() \n",
    "    for prop in account_info_dict: \n",
    "        print(\"  {}={}\".format(prop, account_info_dict[prop])) \n",
    "else: \n",
    "    print(\"failed to connect at account #{}, error code: {}\".format(account, mt5.last_error())) \n",
    "  \n",
    "# shut down connection to the MetaTrader 5 terminal \n",
    "mt5.shutdown()\n"
   ]
  },
  {
   "cell_type": "code",
   "execution_count": null,
   "metadata": {},
   "outputs": [],
   "source": []
  }
 ],
 "metadata": {
  "kernelspec": {
   "display_name": "Python 3",
   "language": "python",
   "name": "python3"
  },
  "language_info": {
   "codemirror_mode": {
    "name": "ipython",
    "version": 3
   },
   "file_extension": ".py",
   "mimetype": "text/x-python",
   "name": "python",
   "nbconvert_exporter": "python",
   "pygments_lexer": "ipython3",
   "version": "3.8.3"
  }
 },
 "nbformat": 4,
 "nbformat_minor": 4
}
