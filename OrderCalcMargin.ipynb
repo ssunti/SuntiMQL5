{
 "cells": [
  {
   "cell_type": "code",
   "execution_count": 4,
   "metadata": {},
   "outputs": [
    {
     "name": "stdout",
     "output_type": "stream",
     "text": [
      "MetaTrader5 package author:  MetaQuotes Software Corp.\n",
      "MetaTrader5 package version:  5.0.33\n",
      "Account сurrency: USD\n",
      "Symbols to check margin: ('EURUSD', 'GBPUSD', 'USDJPY', 'GOLD')\n",
      "   EURUSD buy 0.1 lot margin: 23.69 USD\n",
      "   GBPUSD buy 0.1 lot margin: 25.81 USD\n",
      "   USDJPY buy 0.1 lot margin: 20.0 USD\n",
      "   GOLD buy 0.1 lot margin: 39.17 USD\n"
     ]
    },
    {
     "data": {
      "text/plain": [
       "True"
      ]
     },
     "execution_count": 4,
     "metadata": {},
     "output_type": "execute_result"
    }
   ],
   "source": [
    "import MetaTrader5 as mt5 \n",
    "# display data on the MetaTrader 5 package\n",
    "print(\"MetaTrader5 package author: \",mt5.__author__)\n",
    "print(\"MetaTrader5 package version: \",mt5.__version__)\n",
    " \n",
    "# establish connection to MetaTrader 5 terminal \n",
    "if not mt5.initialize():\n",
    "    print(\"initialize() failed, error code =\",mt5.last_error()) \n",
    "    quit()\n",
    " \n",
    "# get account currency\n",
    "account_currency=mt5.account_info().currency\n",
    "print(\"Account сurrency:\",account_currency)\n",
    " \n",
    "# arrange the symbol list \n",
    "symbols=(\"EURUSD\",\"GBPUSD\",\"USDJPY\", \"GOLD\")\n",
    "print(\"Symbols to check margin:\", symbols)\n",
    "action=mt5.ORDER_TYPE_BUY\n",
    "lot=0.1\n",
    "for symbol in symbols: \n",
    "    symbol_info=mt5.symbol_info(symbol) \n",
    "    if symbol_info is None: \n",
    "        print(symbol,\"not found, skipped\") \n",
    "        continue \n",
    "    if not symbol_info.visible: \n",
    "        print(symbol, \"is not visible, trying to switch on\") \n",
    "        if not mt5.symbol_select(symbol,True): \n",
    "            print(\"symbol_select({}}) failed, skipped\",symbol) \n",
    "            continue\n",
    "    ask=mt5.symbol_info_tick(symbol).ask\n",
    "    margin=mt5.order_calc_margin(action,symbol,lot,ask) \n",
    "    if margin != None:\n",
    "        print(\"   {} buy {} lot margin: {} {}\".format(symbol,lot,margin,account_currency)); \n",
    "    else: \n",
    "        print(\"order_calc_margin failed: , error code =\", mt5.last_error()) \n",
    "  \n",
    "# shut down connection to the MetaTrader 5 terminal \n",
    "mt5.shutdown()"
   ]
  },
  {
   "cell_type": "code",
   "execution_count": null,
   "metadata": {},
   "outputs": [],
   "source": []
  }
 ],
 "metadata": {
  "kernelspec": {
   "display_name": "Python 3",
   "language": "python",
   "name": "python3"
  },
  "language_info": {
   "codemirror_mode": {
    "name": "ipython",
    "version": 3
   },
   "file_extension": ".py",
   "mimetype": "text/x-python",
   "name": "python",
   "nbconvert_exporter": "python",
   "pygments_lexer": "ipython3",
   "version": "3.8.3"
  }
 },
 "nbformat": 4,
 "nbformat_minor": 4
}
