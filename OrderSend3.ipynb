{
 "cells": [
  {
   "cell_type": "code",
   "execution_count": 5,
   "metadata": {},
   "outputs": [
    {
     "name": "stdout",
     "output_type": "stream",
     "text": [
      "MetaTrader5 package author:  MetaQuotes Software Corp.\n",
      "MetaTrader5 package version:  5.0.33\n",
      "1881.68\n",
      "---- {'action': 5, 'magic': 2345, 'symbol': 'GOLD', 'volume': 0.1, 'price': 1886.68, 'sl': 1890.68, 'tp': 1877.68, 'deviation': 50, 'type': 3, 'type_filling': 1, 'type_time': 0, 'comment': 'python script open'} ----\n"
     ]
    },
    {
     "data": {
      "text/plain": [
       "True"
      ]
     },
     "execution_count": 5,
     "metadata": {},
     "output_type": "execute_result"
    }
   ],
   "source": [
    "import time \n",
    "import MetaTrader5 as mt5 \n",
    "  \n",
    "# display data on the MetaTrader 5 package \n",
    "print(\"MetaTrader5 package author: \", mt5.__author__) \n",
    "print(\"MetaTrader5 package version: \", mt5.__version__) \n",
    "  \n",
    "# establish connection to the MetaTrader 5 terminal \n",
    "if not mt5.initialize(login=64012016, server=\"XMGlobal-MT5 2\",password=\"23Vityut@\"): \n",
    "    print(\"initialize() failed, error code =\",mt5.last_error()) \n",
    "    quit() \n",
    "  \n",
    "# prepare the buy request structure \n",
    "symbol = \"GOLD\" \n",
    "symbol_info = mt5.symbol_info(symbol) \n",
    "if symbol_info is None: \n",
    "    print(symbol, \"not found, can not call order_check()\") \n",
    "    mt5.shutdown() \n",
    "    quit() \n",
    "  \n",
    "# if the symbol is unavailable in MarketWatch, add it \n",
    "if not symbol_info.visible: \n",
    "    print(symbol, \"is not visible, trying to switch on\") \n",
    "    if not mt5.symbol_select(symbol,True): \n",
    "        print(\"symbol_select({}}) failed, exit\",symbol) \n",
    "        mt5.shutdown() \n",
    "        quit() \n",
    "  \n",
    "lot = 0.1 \n",
    "point = mt5.symbol_info(symbol).point \n",
    "price = mt5.symbol_info_tick(symbol).bid \n",
    "print(price)\n",
    "deviation = 50 \n",
    "request = { \n",
    "    \"action\": mt5.TRADE_ACTION_PENDING, \n",
    "    \"magic\": 2345, \n",
    "    \"symbol\": symbol, \n",
    "    \"volume\": lot,\n",
    "    \"price\": price + 500 * point, \n",
    "    \"sl\": price + 900 * point, \n",
    "    \"tp\": price - 900 * point, \n",
    "    \"deviation\": deviation, \n",
    "    \"type\": mt5.ORDER_TYPE_SELL_LIMIT,\n",
    "    \"type_filling\": mt5.ORDER_FILLING_IOC, \n",
    "    \"type_time\": mt5.ORDER_TIME_GTC,\n",
    "    \"comment\": \"python script open\", \n",
    "} \n",
    "print(\"----\",request,\"----\")  \n",
    "# send a trading request \n",
    "result = mt5.order_send(request) \n",
    "# check the execution result \n",
    "mt5.shutdown() \n"
   ]
  },
  {
   "cell_type": "code",
   "execution_count": null,
   "metadata": {},
   "outputs": [],
   "source": []
  },
  {
   "cell_type": "code",
   "execution_count": null,
   "metadata": {},
   "outputs": [],
   "source": []
  }
 ],
 "metadata": {
  "kernelspec": {
   "display_name": "Python 3",
   "language": "python",
   "name": "python3"
  },
  "language_info": {
   "codemirror_mode": {
    "name": "ipython",
    "version": 3
   },
   "file_extension": ".py",
   "mimetype": "text/x-python",
   "name": "python",
   "nbconvert_exporter": "python",
   "pygments_lexer": "ipython3",
   "version": "3.8.3"
  }
 },
 "nbformat": 4,
 "nbformat_minor": 4
}
