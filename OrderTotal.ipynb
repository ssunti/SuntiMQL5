{
 "cells": [
  {
   "cell_type": "code",
   "execution_count": 1,
   "metadata": {},
   "outputs": [
    {
     "name": "stdout",
     "output_type": "stream",
     "text": [
      "MetaTrader5 package author:  MetaQuotes Software Corp.\n",
      "MetaTrader5 package version:  5.0.33\n",
      "Total orders= 6\n"
     ]
    },
    {
     "data": {
      "text/plain": [
       "True"
      ]
     },
     "execution_count": 1,
     "metadata": {},
     "output_type": "execute_result"
    }
   ],
   "source": [
    "import MetaTrader5 as mt5 \n",
    "# display data on the MetaTrader 5 package \n",
    "print(\"MetaTrader5 package author: \",mt5.__author__) \n",
    "print(\"MetaTrader5 package version: \",mt5.__version__) \n",
    "  \n",
    "# establish connection to MetaTrader 5 terminal \n",
    "if not mt5.initialize(): \n",
    "    print(\"initialize() failed, error code =\",mt5.last_error()) \n",
    "    quit() \n",
    "  \n",
    "# check the presence of active orders \n",
    "orders=mt5.orders_total() \n",
    "if orders>0: \n",
    "    print(\"Total orders=\",orders) \n",
    "else: \n",
    "    print(\"Orders not found\") \n",
    "  \n",
    "# shut down connection to the MetaTrader 5 terminal \n",
    "mt5.shutdown()"
   ]
  },
  {
   "cell_type": "code",
   "execution_count": null,
   "metadata": {},
   "outputs": [],
   "source": []
  }
 ],
 "metadata": {
  "kernelspec": {
   "display_name": "Python 3",
   "language": "python",
   "name": "python3"
  },
  "language_info": {
   "codemirror_mode": {
    "name": "ipython",
    "version": 3
   },
   "file_extension": ".py",
   "mimetype": "text/x-python",
   "name": "python",
   "nbconvert_exporter": "python",
   "pygments_lexer": "ipython3",
   "version": "3.8.3"
  }
 },
 "nbformat": 4,
 "nbformat_minor": 4
}
