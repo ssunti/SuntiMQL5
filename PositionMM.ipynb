{
 "cells": [
  {
   "cell_type": "code",
   "execution_count": 1,
   "metadata": {},
   "outputs": [
    {
     "name": "stdout",
     "output_type": "stream",
     "text": [
      "MetaTrader5 package author:  MetaQuotes Software Corp.\n",
      "MetaTrader5 package version:  5.0.33\n",
      "\n",
      "Total positions = 23\n",
      "TradePosition(ticket=200431204, time=1596763201, time_msc=1596763201313, time_update=1596763201, time_update_msc=1596763201313, type=1, magic=0, identifier=200431204, reason=1, volume=1.0, price_open=2071.22, sl=0.0, tp=0.0, price_current=1891.39, swap=-376.81, profit=17983.0, symbol='GOLD', comment='', external_id='')\n",
      "TradePosition(ticket=200919499, time=1597826453, time_msc=1597826453851, time_update=1597826453, time_update_msc=1597826453851, type=0, magic=0, identifier=200919499, reason=1, volume=0.1, price_open=1989.57, sl=0.0, tp=2000.0, price_current=1891.06, swap=-57.63, profit=-985.1, symbol='GOLD', comment='', external_id='')\n",
      "TradePosition(ticket=200919646, time=1597778473, time_msc=1597778473473, time_update=1597778473, time_update_msc=1597778473473, type=0, magic=0, identifier=200919646, reason=1, volume=0.1, price_open=2004.59, sl=0.0, tp=2010.0, price_current=1891.06, swap=-58.63, profit=-1135.3, symbol='GOLD', comment='', external_id='')\n",
      "TradePosition(ticket=200939121, time=1597826453, time_msc=1597826453852, time_update=1597826453, time_update_msc=1597826453852, type=0, magic=0, identifier=200939121, reason=1, volume=0.1, price_open=1989.57, sl=0.0, tp=2002.0, price_current=1891.06, swap=-57.63, profit=-985.1, symbol='GOLD', comment='', external_id='')\n",
      "TradePosition(ticket=201739636, time=1598948348, time_msc=1598948348543, time_update=1598948348, time_update_msc=1598948348543, type=0, magic=0, identifier=201739636, reason=1, volume=0.1, price_open=1989.04, sl=0.0, tp=2000.0, price_current=1891.06, swap=-44.31, profit=-979.8, symbol='GOLD', comment='', external_id='')\n",
      "TradePosition(ticket=201798222, time=1599018872, time_msc=1599018872914, time_update=1599018872, time_update_msc=1599018872914, type=0, magic=0, identifier=201798222, reason=1, volume=0.1, price_open=1965.8, sl=0.0, tp=1980.0, price_current=1891.06, swap=-43.26, profit=-747.4, symbol='GOLD', comment='', external_id='')\n",
      "TradePosition(ticket=202352508, time=1600692470, time_msc=1600692470364, time_update=1600692470, time_update_msc=1600692470364, type=0, magic=0, identifier=202352508, reason=1, volume=0.1, price_open=1928.76, sl=0.0, tp=1939.0, price_current=1891.06, swap=-23.24, profit=-377.0, symbol='GOLD', comment='', external_id='')\n",
      "TradePosition(ticket=202758881, time=1600691523, time_msc=1600691523078, time_update=1600691523, time_update_msc=1600691523078, type=0, magic=0, identifier=202758881, reason=1, volume=0.1, price_open=1932.49, sl=0.0, tp=1940.0, price_current=1891.06, swap=-23.24, profit=-414.3, symbol='GOLD', comment='', external_id='')\n",
      "TradePosition(ticket=202758974, time=1600689130, time_msc=1600689130651, time_update=1600689130, time_update_msc=1600689130651, type=0, magic=0, identifier=202758974, reason=1, volume=0.1, price_open=1936.82, sl=0.0, tp=1946.0, price_current=1891.06, swap=-23.24, profit=-457.6, symbol='GOLD', comment='', external_id='')\n",
      "TradePosition(ticket=202759035, time=1600689164, time_msc=1600689164252, time_update=1600689164, time_update_msc=1600689164252, type=0, magic=0, identifier=202759035, reason=1, volume=0.1, price_open=1937.61, sl=0.0, tp=1942.0, price_current=1891.06, swap=-23.24, profit=-465.5, symbol='GOLD', comment='', external_id='')\n",
      "TradePosition(ticket=202762642, time=1600701928, time_msc=1600701928976, time_update=1600701928, time_update_msc=1600701928976, type=0, magic=0, identifier=202762642, reason=1, volume=0.1, price_open=1924.97, sl=0.0, tp=1935.0, price_current=1891.06, swap=-23.24, profit=-339.1, symbol='GOLD', comment='', external_id='')\n",
      "TradePosition(ticket=202991388, time=1600937074, time_msc=1600937074428, time_update=1600937074, time_update_msc=1600937074428, type=1, magic=0, identifier=202991388, reason=1, volume=0.1, price_open=1849.92, sl=0.0, tp=0.0, price_current=1891.39, swap=-10.1, profit=-414.7, symbol='GOLD', comment='', external_id='')\n",
      "TradePosition(ticket=202991399, time=1600937080, time_msc=1600937080319, time_update=1600937080, time_update_msc=1600937080319, type=1, magic=0, identifier=202991399, reason=1, volume=0.1, price_open=1849.9, sl=0.0, tp=0.0, price_current=1891.39, swap=-10.1, profit=-414.9, symbol='GOLD', comment='', external_id='')\n",
      "TradePosition(ticket=203004772, time=1600952486, time_msc=1600952486593, time_update=1600952486, time_update_msc=1600952486593, type=1, magic=0, identifier=203004772, reason=1, volume=0.1, price_open=1853.14, sl=0.0, tp=1848.0, price_current=1891.39, swap=-10.1, profit=-382.5, symbol='GOLD', comment='', external_id='')\n",
      "TradePosition(ticket=203004880, time=1600952530, time_msc=1600952530048, time_update=1600952530, time_update_msc=1600952530048, type=1, magic=0, identifier=203004880, reason=1, volume=0.1, price_open=1853.33, sl=0.0, tp=1849.0, price_current=1891.39, swap=-10.1, profit=-380.6, symbol='GOLD', comment='', external_id='')\n",
      "TradePosition(ticket=203124937, time=1601305003, time_msc=1601305003948, time_update=1601305003, time_update_msc=1601305003948, type=1, magic=0, identifier=203124937, reason=1, volume=0.5, price_open=1865.04, sl=0.0, tp=0.0, price_current=1891.39, swap=-45.3, profit=-1317.5, symbol='GOLD', comment='', external_id='')\n",
      "TradePosition(ticket=203194200, time=1601368810, time_msc=1601368810084, time_update=1601368810, time_update_msc=1601368810084, type=1, magic=0, identifier=203194200, reason=1, volume=0.1, price_open=1878.24, sl=0.0, tp=1868.0, price_current=1891.39, swap=-8.5, profit=-131.5, symbol='GOLD', comment='', external_id='')\n",
      "TradePosition(ticket=203618427, time=1602079117, time_msc=1602079117027, time_update=1602079117, time_update_msc=1602079117027, type=1, magic=0, identifier=203618427, reason=1, volume=0.1, price_open=1885.74, sl=0.0, tp=1880.0, price_current=1891.39, swap=-4.03, profit=-56.5, symbol='GOLD', comment='', external_id='')\n",
      "TradePosition(ticket=203621925, time=1602081956, time_msc=1602081956788, time_update=1602081956, time_update_msc=1602081956788, type=1, magic=0, identifier=203621925, reason=1, volume=0.1, price_open=1886.8, sl=0.0, tp=1880.0, price_current=1891.39, swap=-4.03, profit=-45.9, symbol='GOLD', comment='', external_id='')\n",
      "TradePosition(ticket=203626694, time=1602085640, time_msc=1602085640715, time_update=1602085640, time_update_msc=1602085640715, type=1, magic=0, identifier=203626694, reason=1, volume=0.1, price_open=1890.22, sl=0.0, tp=1880.0, price_current=1891.39, swap=-4.03, profit=-11.7, symbol='GOLD', comment='', external_id='')\n",
      "TradePosition(ticket=203751344, time=1602259900, time_msc=1602259900634, time_update=1602259900, time_update_msc=1602259900634, type=0, magic=0, identifier=203751344, reason=1, volume=0.1, price_open=1921.85, sl=0.0, tp=1932.0, price_current=1891.06, swap=-2.91, profit=-307.9, symbol='GOLD', comment='', external_id='')\n",
      "TradePosition(ticket=203751389, time=1602259926, time_msc=1602259926151, time_update=1602259926, time_update_msc=1602259926151, type=0, magic=0, identifier=203751389, reason=1, volume=0.1, price_open=1921.53, sl=0.0, tp=1930.0, price_current=1891.06, swap=-2.91, profit=-304.7, symbol='GOLD', comment='', external_id='')\n",
      "TradePosition(ticket=203897290, time=1602615570, time_msc=1602615570456, time_update=1602615570, time_update_msc=1602615570456, type=0, magic=0, identifier=203897290, reason=1, volume=0.5, price_open=1895.01, sl=0.0, tp=1900.0, price_current=1891.06, swap=-4.87, profit=-197.5, symbol='GOLD', comment='', external_id='')\n",
      "\n",
      "positions_get = 23\n",
      "       ticket                time  type  magic  identifier  reason  volume  price_open   sl      tp  price_current    swap   profit symbol comment\n",
      "0   200431204 2020-08-07 01:20:01     1      0   200431204       1     1.0     2071.22  0.0     0.0        1891.39 -376.81  17983.0   GOLD        \n",
      "1   200919499 2020-08-19 08:40:53     0      0   200919499       1     0.1     1989.57  0.0  2000.0        1891.06  -57.63   -985.1   GOLD        \n",
      "2   200919646 2020-08-18 19:21:13     0      0   200919646       1     0.1     2004.59  0.0  2010.0        1891.06  -58.63  -1135.3   GOLD        \n",
      "3   200939121 2020-08-19 08:40:53     0      0   200939121       1     0.1     1989.57  0.0  2002.0        1891.06  -57.63   -985.1   GOLD        \n",
      "4   201739636 2020-09-01 08:19:08     0      0   201739636       1     0.1     1989.04  0.0  2000.0        1891.06  -44.31   -979.8   GOLD        \n",
      "5   201798222 2020-09-02 03:54:32     0      0   201798222       1     0.1     1965.80  0.0  1980.0        1891.06  -43.26   -747.4   GOLD        \n",
      "6   202352508 2020-09-21 12:47:50     0      0   202352508       1     0.1     1928.76  0.0  1939.0        1891.06  -23.24   -377.0   GOLD        \n",
      "7   202758881 2020-09-21 12:32:03     0      0   202758881       1     0.1     1932.49  0.0  1940.0        1891.06  -23.24   -414.3   GOLD        \n",
      "8   202758974 2020-09-21 11:52:10     0      0   202758974       1     0.1     1936.82  0.0  1946.0        1891.06  -23.24   -457.6   GOLD        \n",
      "9   202759035 2020-09-21 11:52:44     0      0   202759035       1     0.1     1937.61  0.0  1942.0        1891.06  -23.24   -465.5   GOLD        \n",
      "10  202762642 2020-09-21 15:25:28     0      0   202762642       1     0.1     1924.97  0.0  1935.0        1891.06  -23.24   -339.1   GOLD        \n",
      "11  202991388 2020-09-24 08:44:34     1      0   202991388       1     0.1     1849.92  0.0     0.0        1891.39  -10.10   -414.7   GOLD        \n",
      "12  202991399 2020-09-24 08:44:40     1      0   202991399       1     0.1     1849.90  0.0     0.0        1891.39  -10.10   -414.9   GOLD        \n",
      "13  203004772 2020-09-24 13:01:26     1      0   203004772       1     0.1     1853.14  0.0  1848.0        1891.39  -10.10   -382.5   GOLD        \n",
      "14  203004880 2020-09-24 13:02:10     1      0   203004880       1     0.1     1853.33  0.0  1849.0        1891.39  -10.10   -380.6   GOLD        \n",
      "15  203124937 2020-09-28 14:56:43     1      0   203124937       1     0.5     1865.04  0.0     0.0        1891.39  -45.30  -1317.5   GOLD        \n",
      "16  203194200 2020-09-29 08:40:10     1      0   203194200       1     0.1     1878.24  0.0  1868.0        1891.39   -8.50   -131.5   GOLD        \n",
      "17  203618427 2020-10-07 13:58:37     1      0   203618427       1     0.1     1885.74  0.0  1880.0        1891.39   -4.03    -56.5   GOLD        \n",
      "18  203621925 2020-10-07 14:45:56     1      0   203621925       1     0.1     1886.80  0.0  1880.0        1891.39   -4.03    -45.9   GOLD        \n",
      "19  203626694 2020-10-07 15:47:20     1      0   203626694       1     0.1     1890.22  0.0  1880.0        1891.39   -4.03    -11.7   GOLD        \n",
      "20  203751344 2020-10-09 16:11:40     0      0   203751344       1     0.1     1921.85  0.0  1932.0        1891.06   -2.91   -307.9   GOLD        \n",
      "21  203751389 2020-10-09 16:12:06     0      0   203751389       1     0.1     1921.53  0.0  1930.0        1891.06   -2.91   -304.7   GOLD        \n",
      "22  203897290 2020-10-13 18:59:30     0      0   203897290       1     0.5     1895.01  0.0  1900.0        1891.06   -4.87   -197.5   GOLD        \n"
     ]
    },
    {
     "data": {
      "text/plain": [
       "True"
      ]
     },
     "execution_count": 1,
     "metadata": {},
     "output_type": "execute_result"
    }
   ],
   "source": [
    "import MetaTrader5 as mt5 \n",
    "import pandas as pd \n",
    "pd.set_option('display.max_columns', 500) # number of columns to be displayed \n",
    "pd.set_option('display.width', 1500)      # max table width to display \n",
    "# display data on the MetaTrader 5 package \n",
    "print(\"MetaTrader5 package author: \",mt5.__author__) \n",
    "print(\"MetaTrader5 package version: \",mt5.__version__) \n",
    "print() \n",
    "# establish connection to the MetaTrader 5 terminal \n",
    "if not mt5.initialize(): \n",
    "    print(\"initialize() failed, error code =\",mt5.last_error()) \n",
    "    quit() \n",
    "  \n",
    "# get open positions on USDCHF \n",
    "positions=mt5.positions_get() \n",
    "if positions==None: \n",
    "    print(\"No positions , error code={}\".format(mt5.last_error())) \n",
    "elif len(positions)>0: \n",
    "    print(\"Total positions =\",len(positions))\n",
    "    # display all open positions \n",
    "    for position in positions: \n",
    "        print(position) \n",
    "  \n",
    "# get the list of positions on symbols whose names contain \"*USD*\" \n",
    "usd_positions=mt5.positions_get() \n",
    "if usd_positions==None: \n",
    "    print(\"No positions , error code={}\".format(mt5.last_error())) \n",
    "elif len(usd_positions)>0: \n",
    "    print(\"\\npositions_get = {}\".format(len(usd_positions))) \n",
    "    # display these positions as a table using pandas.DataFrame \n",
    "    df=pd.DataFrame(list(usd_positions),columns=usd_positions[0]._asdict().keys()) \n",
    "    df['time'] = pd.to_datetime(df['time'], unit='s') \n",
    "    df.drop(['time_update', 'time_msc', 'time_update_msc', 'external_id'], axis=1, inplace=True) \n",
    "    print(df) \n",
    "  \n",
    "# shut down connection to the MetaTrader 5 terminal \n",
    "mt5.shutdown() \n"
   ]
  },
  {
   "cell_type": "code",
   "execution_count": null,
   "metadata": {},
   "outputs": [],
   "source": []
  },
  {
   "cell_type": "code",
   "execution_count": null,
   "metadata": {},
   "outputs": [],
   "source": []
  },
  {
   "cell_type": "code",
   "execution_count": null,
   "metadata": {},
   "outputs": [],
   "source": []
  }
 ],
 "metadata": {
  "kernelspec": {
   "display_name": "Python 3",
   "language": "python",
   "name": "python3"
  },
  "language_info": {
   "codemirror_mode": {
    "name": "ipython",
    "version": 3
   },
   "file_extension": ".py",
   "mimetype": "text/x-python",
   "name": "python",
   "nbconvert_exporter": "python",
   "pygments_lexer": "ipython3",
   "version": "3.8.3"
  }
 },
 "nbformat": 4,
 "nbformat_minor": 4
}
