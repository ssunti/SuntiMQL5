{
 "cells": [
  {
   "cell_type": "code",
   "execution_count": 23,
   "metadata": {},
   "outputs": [
    {
     "name": "stdout",
     "output_type": "stream",
     "text": [
      "MetaTrader5 package author:  MetaQuotes Software Corp.\n",
      "MetaTrader5 package version:  5.0.33\n",
      "Total symbols = 1243\n",
      "1. CHFSGD\n",
      "2. EURDKK\n",
      "3. EURHKD\n",
      "4. EURHUF\n",
      "5. EURNOK\n",
      "6. EURPLN\n",
      "7. EURRUB\n",
      "8. EURSEK\n",
      "9. EURSGD\n",
      "10. EURTRY\n",
      "len(*RU*):  3\n",
      "1. EURRUB\n",
      "2. USDRUB\n",
      "3. EURUSD\n",
      "\n",
      "len(*,!*USD*,!*EUR*,!*JPY*,!*GBP*): 1193\n"
     ]
    },
    {
     "data": {
      "text/plain": [
       "True"
      ]
     },
     "execution_count": 23,
     "metadata": {},
     "output_type": "execute_result"
    }
   ],
   "source": [
    "import MetaTrader5 as mt5 \n",
    "# display data on the MetaTrader 5 package \n",
    "print(\"MetaTrader5 package author: \",mt5.__author__) \n",
    "print(\"MetaTrader5 package version: \",mt5.__version__) \n",
    "  \n",
    "# establish connection to the MetaTrader 5 terminal \n",
    "if not mt5.initialize(): \n",
    "    print(\"initialize() failed, error code =\",mt5.last_error()) \n",
    "    quit() \n",
    "  \n",
    "# get the number of financial instruments \n",
    "symbols=mt5.symbols_total()\n",
    "symbolsAll=mt5.symbols_get()\n",
    "symbol1=mt5.symbols_get()\n",
    "\n",
    "if symbols>0: \n",
    "    print(\"Total symbols =\",symbols) \n",
    "else: \n",
    "    print(\"symbols not found\")\n",
    "count=0    \n",
    "for s in symbol1:\n",
    "    selected=mt5.symbol_select(s.name,True) \n",
    "    if not selected: \n",
    "        print(\"Failed to select EURCAD, error code =\",mt5.last_error()) \n",
    "    else: \n",
    "        symbol_info=mt5.symbol_info(s.name) \n",
    "        #print(symbol_info) \n",
    "        #print(\"EURCAD: currency_base =\",symbol_info.currency_base,\"  currency_profit =\",symbol_info.currency_profit,\"  currency_margin =\",symbol_info.currency_margin) \n",
    "        #print() \n",
    "        count+=1 \n",
    "        print(\"{}. {}\".format(count,s.name)) \n",
    "    if count==10: break\n",
    "        \n",
    "# get symbols containing RU in their names \n",
    "ru_symbols=mt5.symbols_get(\"*RU*\") \n",
    "print('len(*RU*): ', len(ru_symbols)) \n",
    "count=0\n",
    "for s in ru_symbols: \n",
    "    count+=1\n",
    "    print(\"{}. {}\".format(count,s.name)) \n",
    "    if count==10: break\n",
    "print() \n",
    "  \n",
    "# get symbols whose names do not contain USD, EUR, JPY and GBP \n",
    "group_symbols=mt5.symbols_get(group=\"*,!*USD*,!*EUR*,!*JPY*,!*GBP*\") \n",
    "print('len(*,!*USD*,!*EUR*,!*JPY*,!*GBP*):', len(group_symbols)) \n",
    "#for s in group_symbols: \n",
    "#    print(s.name,\":\",s) \n",
    "    \n",
    "# shut down connection to the MetaTrader 5 terminal \n",
    "mt5.shutdown()"
   ]
  },
  {
   "cell_type": "code",
   "execution_count": null,
   "metadata": {},
   "outputs": [],
   "source": []
  },
  {
   "cell_type": "code",
   "execution_count": null,
   "metadata": {},
   "outputs": [],
   "source": []
  }
 ],
 "metadata": {
  "kernelspec": {
   "display_name": "Python 3",
   "language": "python",
   "name": "python3"
  },
  "language_info": {
   "codemirror_mode": {
    "name": "ipython",
    "version": 3
   },
   "file_extension": ".py",
   "mimetype": "text/x-python",
   "name": "python",
   "nbconvert_exporter": "python",
   "pygments_lexer": "ipython3",
   "version": "3.8.3"
  }
 },
 "nbformat": 4,
 "nbformat_minor": 4
}
