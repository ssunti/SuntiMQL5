{
 "cells": [
  {
   "cell_type": "code",
   "execution_count": 2,
   "metadata": {},
   "outputs": [
    {
     "name": "stdout",
     "output_type": "stream",
     "text": [
      "Collecting starfishX\n",
      "  Using cached starfishX-0.155524-py3-none-any.whl (5.4 MB)\n",
      "Requirement already satisfied: requests in c:\\users\\sunti\\anaconda3\\lib\\site-packages (from starfishX) (2.24.0)\n",
      "Requirement already satisfied: tqdm in c:\\users\\sunti\\anaconda3\\lib\\site-packages (from starfishX) (4.47.0)\n",
      "Requirement already satisfied: ffn in c:\\users\\sunti\\anaconda3\\lib\\site-packages (from starfishX) (0.3.4)\n",
      "Requirement already satisfied: squarify in c:\\users\\sunti\\anaconda3\\lib\\site-packages (from starfishX) (0.4.3)\n",
      "Requirement already satisfied: html5lib in c:\\users\\sunti\\anaconda3\\lib\\site-packages (from starfishX) (1.1)\n",
      "Requirement already satisfied: pandas in c:\\users\\sunti\\anaconda3\\lib\\site-packages (from starfishX) (1.0.5)\n",
      "Requirement already satisfied: sklearn in c:\\users\\sunti\\anaconda3\\lib\\site-packages (from starfishX) (0.0)\n",
      "Requirement already satisfied: pythainlp in c:\\users\\sunti\\anaconda3\\lib\\site-packages (from starfishX) (2.2.4)\n",
      "Requirement already satisfied: urllib3 in c:\\users\\sunti\\anaconda3\\lib\\site-packages (from starfishX) (1.25.9)\n",
      "Requirement already satisfied: seaborn in c:\\users\\sunti\\anaconda3\\lib\\site-packages (from starfishX) (0.10.1)\n",
      "Requirement already satisfied: scipy in c:\\users\\sunti\\anaconda3\\lib\\site-packages (from starfishX) (1.5.0)\n",
      "Requirement already satisfied: beautifulsoup4 in c:\\users\\sunti\\anaconda3\\lib\\site-packages (from starfishX) (4.9.1)\n",
      "Requirement already satisfied: selenium in c:\\users\\sunti\\anaconda3\\lib\\site-packages (from starfishX) (3.141.0)\n",
      "Requirement already satisfied: pyqt5 in c:\\users\\sunti\\anaconda3\\lib\\site-packages (from starfishX) (5.15.1)\n",
      "Requirement already satisfied: chardet<4,>=3.0.2 in c:\\users\\sunti\\anaconda3\\lib\\site-packages (from requests->starfishX) (3.0.4)\n",
      "Requirement already satisfied: idna<3,>=2.5 in c:\\users\\sunti\\anaconda3\\lib\\site-packages (from requests->starfishX) (2.10)\n",
      "Requirement already satisfied: certifi>=2017.4.17 in c:\\users\\sunti\\anaconda3\\lib\\site-packages (from requests->starfishX) (2020.6.20)\n",
      "Requirement already satisfied: scikit-learn>=0.15 in c:\\users\\sunti\\anaconda3\\lib\\site-packages (from ffn->starfishX) (0.23.1)\n",
      "Note: you may need to restart the kernel to use updated packages.\n",
      "Requirement already satisfied: tabulate>=0.7.5 in c:\\users\\sunti\\anaconda3\\lib\\site-packages (from ffn->starfishX) (0.8.7)\n",
      "Requirement already satisfied: matplotlib>=1 in c:\\users\\sunti\\anaconda3\\lib\\site-packages (from ffn->starfishX) (3.3.2)\n",
      "Requirement already satisfied: future>=0.15 in c:\\users\\sunti\\anaconda3\\lib\\site-packages (from ffn->starfishX) (0.18.2)\n",
      "Requirement already satisfied: pandas-datareader>=0.2 in c:\\users\\sunti\\anaconda3\\lib\\site-packages (from ffn->starfishX) (0.9.0)\n",
      "Requirement already satisfied: numpy>=1.5 in c:\\users\\sunti\\anaconda3\\lib\\site-packages (from ffn->starfishX) (1.18.5)\n",
      "Requirement already satisfied: decorator>=4 in c:\\users\\sunti\\anaconda3\\lib\\site-packages (from ffn->starfishX) (4.4.2)\n",
      "Requirement already satisfied: webencodings in c:\\users\\sunti\\anaconda3\\lib\\site-packages (from html5lib->starfishX) (0.5.1)\n",
      "Requirement already satisfied: six>=1.9 in c:\\users\\sunti\\anaconda3\\lib\\site-packages (from html5lib->starfishX) (1.15.0)\n",
      "Requirement already satisfied: pytz>=2017.2 in c:\\users\\sunti\\anaconda3\\lib\\site-packages (from pandas->starfishX) (2020.1)\n",
      "Requirement already satisfied: python-dateutil>=2.6.1 in c:\\users\\sunti\\anaconda3\\lib\\site-packages (from pandas->starfishX) (2.8.1)\n",
      "Requirement already satisfied: tinydb>=3.0 in c:\\users\\sunti\\anaconda3\\lib\\site-packages (from pythainlp->starfishX) (4.2.0)\n",
      "Requirement already satisfied: python-crfsuite>=0.9.6 in c:\\users\\sunti\\anaconda3\\lib\\site-packages (from pythainlp->starfishX) (0.9.7)\n",
      "Requirement already satisfied: soupsieve>1.2 in c:\\users\\sunti\\anaconda3\\lib\\site-packages (from beautifulsoup4->starfishX) (2.0.1)\n",
      "Requirement already satisfied: PyQt5-sip<13,>=12.8 in c:\\users\\sunti\\anaconda3\\lib\\site-packages (from pyqt5->starfishX) (12.8.1)\n",
      "Requirement already satisfied: joblib>=0.11 in c:\\users\\sunti\\anaconda3\\lib\\site-packages (from scikit-learn>=0.15->ffn->starfishX) (0.16.0)\n",
      "Requirement already satisfied: threadpoolctl>=2.0.0 in c:\\users\\sunti\\anaconda3\\lib\\site-packages (from scikit-learn>=0.15->ffn->starfishX) (2.1.0)\n",
      "Requirement already satisfied: pillow>=6.2.0 in c:\\users\\sunti\\anaconda3\\lib\\site-packages (from matplotlib>=1->ffn->starfishX) (7.2.0)\n",
      "Requirement already satisfied: kiwisolver>=1.0.1 in c:\\users\\sunti\\anaconda3\\lib\\site-packages (from matplotlib>=1->ffn->starfishX) (1.2.0)\n",
      "Requirement already satisfied: cycler>=0.10 in c:\\users\\sunti\\anaconda3\\lib\\site-packages (from matplotlib>=1->ffn->starfishX) (0.10.0)\n",
      "Requirement already satisfied: pyparsing!=2.0.4,!=2.1.2,!=2.1.6,>=2.0.3 in c:\\users\\sunti\\anaconda3\\lib\\site-packages (from matplotlib>=1->ffn->starfishX) (2.4.7)\n",
      "Requirement already satisfied: lxml in c:\\users\\sunti\\anaconda3\\lib\\site-packages (from pandas-datareader>=0.2->ffn->starfishX) (4.5.2)\n",
      "Installing collected packages: starfishX\n",
      "Successfully installed starfishX-0.155524\n"
     ]
    }
   ],
   "source": [
    "pip install starfishX"
   ]
  },
  {
   "cell_type": "code",
   "execution_count": 1,
   "metadata": {},
   "outputs": [
    {
     "ename": "TypeError",
     "evalue": "use() got an unexpected keyword argument 'warn'",
     "output_type": "error",
     "traceback": [
      "\u001b[1;31m---------------------------------------------------------------------------\u001b[0m",
      "\u001b[1;31mTypeError\u001b[0m                                 Traceback (most recent call last)",
      "\u001b[1;32m<ipython-input-1-e689c3b27159>\u001b[0m in \u001b[0;36m<module>\u001b[1;34m\u001b[0m\n\u001b[1;32m----> 1\u001b[1;33m \u001b[1;32mimport\u001b[0m \u001b[0mstarfishX\u001b[0m \u001b[1;32mas\u001b[0m \u001b[0msf\u001b[0m\u001b[1;33m\u001b[0m\u001b[1;33m\u001b[0m\u001b[0m\n\u001b[0m",
      "\u001b[1;32m~\\anaconda3\\lib\\site-packages\\starfishX\\__init__.py\u001b[0m in \u001b[0;36m<module>\u001b[1;34m\u001b[0m\n\u001b[0;32m     13\u001b[0m \u001b[1;33m\u001b[0m\u001b[0m\n\u001b[0;32m     14\u001b[0m \u001b[1;33m\u001b[0m\u001b[0m\n\u001b[1;32m---> 15\u001b[1;33m \u001b[0mexec\u001b[0m\u001b[1;33m(\u001b[0m\u001b[1;34m\"from \"\u001b[0m\u001b[1;33m+\u001b[0m\u001b[0mprefix\u001b[0m\u001b[1;33m+\u001b[0m\u001b[1;34m\"starfishXfn import setTHforPlot\"\u001b[0m\u001b[1;33m)\u001b[0m\u001b[1;33m\u001b[0m\u001b[1;33m\u001b[0m\u001b[0m\n\u001b[0m\u001b[0;32m     16\u001b[0m \u001b[1;33m\u001b[0m\u001b[0m\n\u001b[0;32m     17\u001b[0m \u001b[1;31m#from starfishX.starfishXfn import loadHistData\u001b[0m\u001b[1;33m\u001b[0m\u001b[1;33m\u001b[0m\u001b[1;33m\u001b[0m\u001b[0m\n",
      "\u001b[1;32m~\\anaconda3\\lib\\site-packages\\starfishX\\__init__.py\u001b[0m in \u001b[0;36m<module>\u001b[1;34m\u001b[0m\n",
      "\u001b[1;32m~\\anaconda3\\lib\\site-packages\\starfishX\\starfishXfn.py\u001b[0m in \u001b[0;36m<module>\u001b[1;34m\u001b[0m\n\u001b[0;32m     12\u001b[0m \u001b[1;32mimport\u001b[0m \u001b[0mcsv\u001b[0m\u001b[1;33m\u001b[0m\u001b[1;33m\u001b[0m\u001b[0m\n\u001b[0;32m     13\u001b[0m \u001b[1;33m\u001b[0m\u001b[0m\n\u001b[1;32m---> 14\u001b[1;33m \u001b[1;32mimport\u001b[0m \u001b[0mffn\u001b[0m \u001b[1;32mas\u001b[0m \u001b[0mloaddata\u001b[0m\u001b[1;33m\u001b[0m\u001b[1;33m\u001b[0m\u001b[0m\n\u001b[0m\u001b[0;32m     15\u001b[0m \u001b[1;32mfrom\u001b[0m \u001b[0mmath\u001b[0m \u001b[1;32mimport\u001b[0m \u001b[0mpi\u001b[0m\u001b[1;33m\u001b[0m\u001b[1;33m\u001b[0m\u001b[0m\n\u001b[0;32m     16\u001b[0m \u001b[1;32mimport\u001b[0m \u001b[0mmath\u001b[0m\u001b[1;33m\u001b[0m\u001b[1;33m\u001b[0m\u001b[0m\n",
      "\u001b[1;32m~\\anaconda3\\lib\\site-packages\\ffn\\__init__.py\u001b[0m in \u001b[0;36m<module>\u001b[1;34m\u001b[0m\n\u001b[1;32m----> 1\u001b[1;33m \u001b[1;32mfrom\u001b[0m \u001b[1;33m.\u001b[0m \u001b[1;32mimport\u001b[0m \u001b[0mcore\u001b[0m\u001b[1;33m\u001b[0m\u001b[1;33m\u001b[0m\u001b[0m\n\u001b[0m\u001b[0;32m      2\u001b[0m \u001b[1;32mfrom\u001b[0m \u001b[1;33m.\u001b[0m \u001b[1;32mimport\u001b[0m \u001b[0mdata\u001b[0m\u001b[1;33m\u001b[0m\u001b[1;33m\u001b[0m\u001b[0m\n\u001b[0;32m      3\u001b[0m \u001b[1;33m\u001b[0m\u001b[0m\n\u001b[0;32m      4\u001b[0m \u001b[1;32mfrom\u001b[0m \u001b[1;33m.\u001b[0m\u001b[0mdata\u001b[0m \u001b[1;32mimport\u001b[0m \u001b[0mget\u001b[0m\u001b[1;33m\u001b[0m\u001b[1;33m\u001b[0m\u001b[0m\n\u001b[0;32m      5\u001b[0m \u001b[1;31m#from .core import year_frac, PerformanceStats, GroupStats, merge\u001b[0m\u001b[1;33m\u001b[0m\u001b[1;33m\u001b[0m\u001b[1;33m\u001b[0m\u001b[0m\n",
      "\u001b[1;32m~\\anaconda3\\lib\\site-packages\\ffn\\core.py\u001b[0m in \u001b[0;36m<module>\u001b[1;34m\u001b[0m\n\u001b[0;32m     25\u001b[0m \u001b[1;33m\u001b[0m\u001b[0m\n\u001b[0;32m     26\u001b[0m \u001b[1;32mif\u001b[0m \u001b[1;34m'DISPLAY'\u001b[0m \u001b[1;32mnot\u001b[0m \u001b[1;32min\u001b[0m \u001b[0mos\u001b[0m\u001b[1;33m.\u001b[0m\u001b[0menviron\u001b[0m\u001b[1;33m:\u001b[0m\u001b[1;33m\u001b[0m\u001b[1;33m\u001b[0m\u001b[0m\n\u001b[1;32m---> 27\u001b[1;33m     \u001b[0mmatplotlib\u001b[0m\u001b[1;33m.\u001b[0m\u001b[0muse\u001b[0m\u001b[1;33m(\u001b[0m\u001b[1;34m'agg'\u001b[0m\u001b[1;33m,\u001b[0m \u001b[0mwarn\u001b[0m\u001b[1;33m=\u001b[0m\u001b[1;32mFalse\u001b[0m\u001b[1;33m)\u001b[0m\u001b[1;33m\u001b[0m\u001b[1;33m\u001b[0m\u001b[0m\n\u001b[0m\u001b[0;32m     28\u001b[0m \u001b[1;33m\u001b[0m\u001b[0m\n\u001b[0;32m     29\u001b[0m \u001b[1;32mfrom\u001b[0m \u001b[0mmatplotlib\u001b[0m \u001b[1;32mimport\u001b[0m \u001b[0mpyplot\u001b[0m \u001b[1;32mas\u001b[0m \u001b[0mplt\u001b[0m  \u001b[1;31m# noqa\u001b[0m\u001b[1;33m\u001b[0m\u001b[1;33m\u001b[0m\u001b[0m\n",
      "\u001b[1;31mTypeError\u001b[0m: use() got an unexpected keyword argument 'warn'"
     ]
    }
   ],
   "source": [
    "import starfishX as sf"
   ]
  },
  {
   "cell_type": "code",
   "execution_count": null,
   "metadata": {},
   "outputs": [],
   "source": []
  }
 ],
 "metadata": {
  "kernelspec": {
   "display_name": "Python 3",
   "language": "python",
   "name": "python3"
  },
  "language_info": {
   "codemirror_mode": {
    "name": "ipython",
    "version": 3
   },
   "file_extension": ".py",
   "mimetype": "text/x-python",
   "name": "python",
   "nbconvert_exporter": "python",
   "pygments_lexer": "ipython3",
   "version": "3.8.3"
  }
 },
 "nbformat": 4,
 "nbformat_minor": 4
}
