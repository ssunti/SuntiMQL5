{
 "cells": [
  {
   "cell_type": "code",
   "execution_count": 2,
   "metadata": {},
   "outputs": [
    {
     "name": "stdout",
     "output_type": "stream",
     "text": [
      "MetaTrader5 package author:  MetaQuotes Software Corp.\n",
      "MetaTrader5 package version:  5.0.33\n",
      "Account сurrency: USD\n",
      "Symbols to check margin: ('EURUSD', 'GBPUSD', 'GOLD')\n",
      "   buy EURUSD 1.0 lot: profit on 300 points => 300.0 USD\n",
      "   sell EURUSD 1.0 lots: profit on 300 points => 300.0 USD\n",
      "\n",
      "   buy GBPUSD 1.0 lot: profit on 300 points => 300.0 USD\n",
      "   sell GBPUSD 1.0 lots: profit on 300 points => 300.0 USD\n",
      "\n",
      "   buy GOLD 1.0 lot: profit on 300 points => 300.0 USD\n",
      "   sell GOLD 1.0 lots: profit on 300 points => 300.0 USD\n",
      "\n"
     ]
    },
    {
     "data": {
      "text/plain": [
       "True"
      ]
     },
     "execution_count": 2,
     "metadata": {},
     "output_type": "execute_result"
    }
   ],
   "source": [
    "import MetaTrader5 as mt5 \n",
    "# display data on the MetaTrader 5 package\n",
    "print(\"MetaTrader5 package author: \",mt5.__author__)\n",
    "print(\"MetaTrader5 package version: \",mt5.__version__)\n",
    " \n",
    "# establish connection to MetaTrader 5 terminal \n",
    "if not mt5.initialize():\n",
    "    print(\"initialize() failed, error code =\",mt5.last_error()) \n",
    "    quit()\n",
    " \n",
    "# get account currency\n",
    "account_currency=mt5.account_info().currency\n",
    "print(\"Account сurrency:\",account_currency)\n",
    " \n",
    "# arrange the symbol list\n",
    "#symbols = (\"GOLD\")\n",
    "symbols = (\"EURUSD\",\"GBPUSD\",\"GOLD\")\n",
    "print(\"Symbols to check margin:\", symbols)\n",
    "# estimate profit for buying and selling\n",
    "lot=1.0\n",
    "distance=300\n",
    "for symbol in symbols: \n",
    "    symbol_info=mt5.symbol_info(symbol) \n",
    "    if symbol_info is None: \n",
    "        print(symbol,\"not found, skipped\") \n",
    "        continue \n",
    "    if not symbol_info.visible: \n",
    "        print(symbol, \"is not visible, trying to switch on\") \n",
    "        if not mt5.symbol_select(symbol,True): \n",
    "            print(\"symbol_select({}}) failed, skipped\",symbol) \n",
    "            continue\n",
    "    point=mt5.symbol_info(symbol).point\n",
    "    symbol_tick=mt5.symbol_info_tick(symbol)\n",
    "    ask=symbol_tick.ask\n",
    "    bid=symbol_tick.bid\n",
    "    buy_profit=mt5.order_calc_profit(mt5.ORDER_TYPE_BUY,symbol,lot,ask,ask+distance*point) \n",
    "    if buy_profit!=None: \n",
    "        print(\"   buy {} {} lot: profit on {} points => {} {}\".format(symbol,lot,distance,buy_profit,account_currency));\n",
    "    else: \n",
    "        print(\"order_calc_profit(ORDER_TYPE_BUY) failed, error code =\",mt5.last_error())\n",
    "    sell_profit=mt5.order_calc_profit(mt5.ORDER_TYPE_SELL,symbol,lot,bid,bid-distance*point) \n",
    "    if sell_profit!=None: \n",
    "        print(\"   sell {} {} lots: profit on {} points => {} {}\".format(symbol,lot,distance,sell_profit,account_currency)); \n",
    "    else: \n",
    "        print(\"order_calc_profit(ORDER_TYPE_SELL) failed, error code =\",mt5.last_error())\n",
    "    print() \n",
    "  \n",
    "# shut down connection to the MetaTrader 5 terminal\n",
    "mt5.shutdown()"
   ]
  },
  {
   "cell_type": "code",
   "execution_count": null,
   "metadata": {},
   "outputs": [],
   "source": []
  }
 ],
 "metadata": {
  "kernelspec": {
   "display_name": "Python 3",
   "language": "python",
   "name": "python3"
  },
  "language_info": {
   "codemirror_mode": {
    "name": "ipython",
    "version": 3
   },
   "file_extension": ".py",
   "mimetype": "text/x-python",
   "name": "python",
   "nbconvert_exporter": "python",
   "pygments_lexer": "ipython3",
   "version": "3.8.3"
  }
 },
 "nbformat": 4,
 "nbformat_minor": 4
}
